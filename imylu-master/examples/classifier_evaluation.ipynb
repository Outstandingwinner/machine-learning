{
 "cells": [
  {
   "cell_type": "markdown",
   "metadata": {},
   "source": [
    "提到分类模型评估相信大家应该都不会觉得陌生（不陌生你点进来干嘛[捂脸]），本文就分类模型评估的基本原理进行讲解，并手把手、肩并肩地带您实现各种评估函数。完整实现代码请参考本人的p...哦不是...github：  \n",
    "- [model_selection.py](https://github.com/tushushu/imylu/blob/master/imylu/utils/model_selection.py)"
   ]
  },
  {
   "cell_type": "markdown",
   "metadata": {},
   "source": [
    "## 1. 分类模型\n",
    "分类问题其实在生活中处处可见，比如我们在大街上看妹纸，会把妹纸的外貌分为好看和非常好看(求生欲。。。)；再比如我们刷微博，会把微博推送给我们的内容分为喜欢的和不喜欢的。上述问题就是典型的分类问题，确切的说是二分类问题，而能够解决这些二分类问题的数学模型就被称为二分类模型。用数学的方式表达就是，给定自变量X，代入到我们的分类模型F，会输出因变量y，y的取值为0或1，其中0代表负样本（好看的妹纸、不喜欢的微博），1代表正样本（非常好看的妹纸、喜欢的微博）。"
   ]
  },
  {
   "cell_type": "markdown",
   "metadata": {},
   "source": [
    "## 2. 准确率\n",
    "如何评估一个分类模型计算出来的结果是否准确呢？最简单的方式就是用准确率(Accuracy)来评价。比如我们手机上有5条微博，我们对这5条微博的态度分别是喜欢、喜欢、不喜欢、不喜欢、喜欢，用数组表示就是y = [1, 1, 0, 0, 1]。我们将微博的文字内容，图片内容等特征X代入到分类模型F中，得到分类结果是y_hat = [1, 1, 0, 0, 0]。显然5个样本中我们正确分类了4个，准确率 = 4 / 5 * 100% = 80%。用Python实现计算准确率的函数如下:"
   ]
  },
  {
   "cell_type": "code",
   "execution_count": 43,
   "metadata": {},
   "outputs": [],
   "source": [
    "def get_acc(y, y_hat):\n",
    "    return sum(yi == yi_hat for yi, yi_hat in zip(y, y_hat)) / len(y)"
   ]
  },
  {
   "cell_type": "markdown",
   "metadata": {},
   "source": [
    "## 3. 准确率的陷阱\n",
    "如果用准确率就足以评估分类模型的优劣，那么我也就不会专门写一篇文章了[微笑]。假设大街上我们遇到好看的妹纸的概率是99%，遇到非常好看的妹纸的概率是1%。那么我们用模型F(X) = 0，即不分青红皂白，一律简单粗暴地预测所有妹纸都是好看的（负样本），模型就可以达到99%的准确率，这显然是非常荒谬的。"
   ]
  },
  {
   "cell_type": "markdown",
   "metadata": {},
   "source": [
    "## 4. 混淆矩阵\n",
    "如何解决准确率的陷阱呢，接下来轮到混淆矩阵矩阵出场了。混淆矩阵，顾名思义，就是可以让你混淆各种模型评价指标的矩阵。矩阵的形状是2 x 2，其中，\n",
    "- 矩阵的左上角表示，预测值为1，实际值为1(True Positive，简称TP)；\n",
    "- 右上角表示预测值为1，实际值为0(False Positive，简称FP)；\n",
    "- 左下角表示预测值为0，实际值为1(False Negative，简称FN)；\n",
    "- 右下角表示预测值为0，实际值为0(True Negative，简称TN)；"
   ]
  },
  {
   "cell_type": "markdown",
   "metadata": {},
   "source": [
    "## 5. TPR\n",
    "$TPR = TP / NumberOfPositive$  \n",
    "TPR也被称作召回率，即正例被我们准确预测的比例。我们再回头看看准确率的陷阱，简单粗暴地预测所有妹纸都是好看的（负样本），模型就可以达到99%的准确率。但是其TPR是0，即非常好看的妹纸都没有被模型识别出来。用全宇宙最简单的编程语言Python实现TPR的计算函数如下："
   ]
  },
  {
   "cell_type": "code",
   "execution_count": 44,
   "metadata": {},
   "outputs": [],
   "source": [
    "def get_tpr(y, y_hat):\n",
    "    true_positive = sum(yi and yi_hat for yi, yi_hat in zip(y, y_hat))\n",
    "    actual_positive = sum(y)\n",
    "    return true_positive / actual_positive"
   ]
  },
  {
   "cell_type": "markdown",
   "metadata": {},
   "source": [
    "## 6. Precision\n",
    "$Precision = TP / NumberOfPredictedPositive$  \n",
    "Precision也被称作精确率，即我们预测的正例中有多少个是准确的，可以从另一个角度来评估模型的预测能力。用全宇宙最简单的编程语言Python实现Precision的计算函数如下："
   ]
  },
  {
   "cell_type": "code",
   "execution_count": 45,
   "metadata": {},
   "outputs": [],
   "source": [
    "def get_precision(y, y_hat):\n",
    "    true_positive = sum(yi and yi_hat for yi, yi_hat in zip(y, y_hat))\n",
    "    predicted_positive = sum(y_hat)\n",
    "    return true_positive / predicted_positive"
   ]
  },
  {
   "cell_type": "markdown",
   "metadata": {},
   "source": [
    "## 7. TNR\n",
    "$TNR = TN / NumberOfNegative$  \n",
    "TNR也称特异度，即我们预测的负例中有多少个是准确的。除此之外，特异度更多地被用于ROC曲线的绘制。用全宇宙最简单的编程语言Python实现TNR的计算函数如下："
   ]
  },
  {
   "cell_type": "code",
   "execution_count": 46,
   "metadata": {},
   "outputs": [],
   "source": [
    "def get_tnr(y, y_hat):\n",
    "    true_negative = sum(1 - (yi or yi_hat) for yi, yi_hat in zip(y, y_hat))\n",
    "    actual_negative = len(y) - sum(y)\n",
    "    return true_negative / actual_negative"
   ]
  },
  {
   "cell_type": "markdown",
   "metadata": {},
   "source": [
    "## 8. 分类模型的阈值\n",
    "为了简化问题，前面我们讨论分类模型的输出都是0和1的离散变量。事实上分类模型一般会输出一个介于0和1之间的数字x，比如0.75。我们需要设定一个阈值k，默认是0.5也可以根据实际情况调整。如果x >= k，那么预测结果就是1，否则预测结果就是0。由于0.75 >= 0.5，所以预测结果是1。"
   ]
  },
  {
   "cell_type": "markdown",
   "metadata": {},
   "source": [
    "## 9. ROC\n",
    "由于TPR = TP / Number of Positive，所以当阈值为0时，所有的样本都会被预测为Positive，所以TPR等于1，同理这时的1 - TNR为1，当阈值为1时TPR等于0，1- TNR等于0。如果我们让阈值从1逐渐降低到0，会得到很多对TPR和1 - TNR，将这些值当做数据点，以TPR为y轴，1 - TNR为x轴绘制出一条曲线，这条曲线就是ROC曲线。用全宇宙最简单的编程语言Python实现ROC数据点的计算函数如下："
   ]
  },
  {
   "cell_type": "code",
   "execution_count": 47,
   "metadata": {},
   "outputs": [],
   "source": [
    "def get_roc(y, y_hat_prob):\n",
    "    thresholds = sorted(set(y_hat_prob), reverse=True)\n",
    "    ret = [[0, 0]]\n",
    "    for threshold in thresholds:\n",
    "        y_hat = [int(yi_hat_prob >= threshold) for yi_hat_prob in y_hat_prob]\n",
    "        ret.append([get_tpr(y, y_hat), 1 - get_tnr(y, y_hat)])\n",
    "    return ret"
   ]
  },
  {
   "cell_type": "markdown",
   "metadata": {},
   "source": [
    "## 10. AUC\n",
    "ROC曲线下的面积被称为AUC，可以评估模型的性能。用全宇宙最简单的编程语言Python实现AUC的计算函数如下："
   ]
  },
  {
   "cell_type": "code",
   "execution_count": 48,
   "metadata": {},
   "outputs": [],
   "source": [
    "def get_auc(y, y_hat_prob):\n",
    "    roc = iter(get_roc(y, y_hat_prob))\n",
    "    tpr_pre, fpr_pre = next(roc)\n",
    "    auc = 0\n",
    "    for tpr, fpr in roc:\n",
    "        auc += (tpr + tpr_pre) * (fpr - fpr_pre) / 2\n",
    "        tpr_pre = tpr\n",
    "        fpr_pre = fpr\n",
    "    return auc"
   ]
  },
  {
   "cell_type": "markdown",
   "metadata": {},
   "source": [
    "### 10.1 AUC为0.5，模型没有预测能力"
   ]
  },
  {
   "cell_type": "markdown",
   "metadata": {},
   "source": [
    "我们生成1000个实际值，其中500个值为1,500个值为0，顺序被随机打乱。"
   ]
  },
  {
   "cell_type": "code",
   "execution_count": 49,
   "metadata": {},
   "outputs": [],
   "source": [
    "import pandas as pd\n",
    "import numpy as np\n",
    "from numpy.random import rand, seed, shuffle, normal"
   ]
  },
  {
   "cell_type": "code",
   "execution_count": 50,
   "metadata": {},
   "outputs": [],
   "source": [
    "seed(100)\n",
    "y = np.array([0, 1] * 500)\n",
    "shuffle(y)"
   ]
  },
  {
   "cell_type": "markdown",
   "metadata": {},
   "source": [
    "然后我们随机生成1000个实际值"
   ]
  },
  {
   "cell_type": "code",
   "execution_count": 51,
   "metadata": {},
   "outputs": [],
   "source": [
    "seed(20)\n",
    "y_pred = rand(1000)"
   ]
  },
  {
   "cell_type": "markdown",
   "metadata": {},
   "source": [
    "计算出ROC曲线的数据点，并绘制ROC曲线。不难看出这条ROC曲线的AUC值约等于0.5，而预测值都是我们随机生成的，也就印证了AUC为0.5时模型没有预测能力的说法。"
   ]
  },
  {
   "cell_type": "code",
   "execution_count": 52,
   "metadata": {},
   "outputs": [
    {
     "name": "stdout",
     "output_type": "stream",
     "text": [
      "AUC is 0.479.\n"
     ]
    },
    {
     "data": {
      "text/plain": [
       "<matplotlib.axes._subplots.AxesSubplot at 0x9df07f0>"
      ]
     },
     "execution_count": 52,
     "metadata": {},
     "output_type": "execute_result"
    },
    {
     "data": {
      "image/png": "[encoded data removed]",
      "text/plain": [
       "<Figure size 432x288 with 1 Axes>"
      ]
     },
     "metadata": {
      "needs_background": "light"
     },
     "output_type": "display_data"
    }
   ],
   "source": [
    "points = get_roc(y, y_pred)\n",
    "df = pd.DataFrame(points, columns=[\"tpr\", \"fpr\"])\n",
    "print(\"AUC is %.3f.\" % get_auc(y, y_pred))\n",
    "df.plot(x=\"fpr\", y=\"tpr\", label=\"roc\")"
   ]
  },
  {
   "cell_type": "markdown",
   "metadata": {},
   "source": [
    "### 10.2 AUC值为1，模型的预测能力最强"
   ]
  },
  {
   "cell_type": "markdown",
   "metadata": {},
   "source": [
    "我们让预测值直接等于实际值"
   ]
  },
  {
   "cell_type": "code",
   "execution_count": 53,
   "metadata": {},
   "outputs": [],
   "source": [
    "y_pred = np.array(y)"
   ]
  },
  {
   "cell_type": "markdown",
   "metadata": {},
   "source": [
    "计算出ROC曲线的数据点，并绘制ROC曲线。不难看出这条ROC曲线的AUC值1，也就印证了AUC值为1，模型的预测能力最强的说法。当然，在实际应用时这种情况是几乎不可能出现的。"
   ]
  },
  {
   "cell_type": "code",
   "execution_count": 54,
   "metadata": {},
   "outputs": [
    {
     "name": "stdout",
     "output_type": "stream",
     "text": [
      "AUC is 1.000.\n"
     ]
    },
    {
     "data": {
      "text/plain": [
       "<matplotlib.axes._subplots.AxesSubplot at 0x9e840f0>"
      ]
     },
     "execution_count": 54,
     "metadata": {},
     "output_type": "execute_result"
    },
    {
     "data": {
      "image/png": "[encoded data removed]",
      "text/plain": [
       "<Figure size 432x288 with 1 Axes>"
      ]
     },
     "metadata": {
      "needs_background": "light"
     },
     "output_type": "display_data"
    }
   ],
   "source": [
    "points = get_roc(y, y_pred)\n",
    "df = pd.DataFrame(points, columns=[\"tpr\", \"fpr\"])\n",
    "print(\"AUC is %.3f.\" % get_auc(y, y_pred))\n",
    "df.plot(x=\"fpr\", y=\"tpr\", label=\"roc\")"
   ]
  },
  {
   "cell_type": "markdown",
   "metadata": {},
   "source": [
    "### 10.3 对于正例和负例有着对等预测能力的ROC曲线"
   ]
  },
  {
   "cell_type": "markdown",
   "metadata": {},
   "source": [
    "阈值为0.5时，我们让预测值有70%的可能性是正确预测。比如yi = 1，那么预测值有70%的可能性是[0.5, 1]之间的随机数。如果yi = 0，那么预测值有70%的可能性是[0, 0.5]之间的随机数"
   ]
  },
  {
   "cell_type": "code",
   "execution_count": 55,
   "metadata": {},
   "outputs": [],
   "source": [
    "seed(15)\n",
    "f = lambda x: rand() / 2 + 0.5 if x else rand() / 2\n",
    "y_pred = np.array([f(yi) if rand() > 0.3 else f(1 - yi) for yi in y])"
   ]
  },
  {
   "cell_type": "markdown",
   "metadata": {},
   "source": [
    "计算出ROC曲线的数据点，并绘制ROC曲线。可以看出ROC曲线的形状是对称的。"
   ]
  },
  {
   "cell_type": "code",
   "execution_count": 56,
   "metadata": {},
   "outputs": [
    {
     "name": "stdout",
     "output_type": "stream",
     "text": [
      "AUC is 0.706.\n"
     ]
    },
    {
     "data": {
      "text/plain": [
       "<matplotlib.axes._subplots.AxesSubplot at 0x9ed2c18>"
      ]
     },
     "execution_count": 56,
     "metadata": {},
     "output_type": "execute_result"
    },
    {
     "data": {
      "image/png": "[encoded data removed]",
      "text/plain": [
       "<Figure size 432x288 with 1 Axes>"
      ]
     },
     "metadata": {
      "needs_background": "light"
     },
     "output_type": "display_data"
    }
   ],
   "source": [
    "points = get_roc(y, y_pred)\n",
    "df = pd.DataFrame(points, columns=[\"tpr\", \"fpr\"])\n",
    "print(\"AUC is %.3f.\" % get_auc(y, y_pred))\n",
    "df.plot(x=\"fpr\", y=\"tpr\", label=\"roc\")"
   ]
  },
  {
   "cell_type": "markdown",
   "metadata": {},
   "source": [
    "### 10.4 对于正例有着较强预测能力的ROC曲线"
   ]
  },
  {
   "cell_type": "markdown",
   "metadata": {},
   "source": [
    "阈值为0.5时，我们让正例的预测值有95%的可能性是正确预测，负例的预测值有70%的可能性是正确预测"
   ]
  },
  {
   "cell_type": "code",
   "execution_count": 57,
   "metadata": {},
   "outputs": [],
   "source": [
    "seed(200)\n",
    "\n",
    "def f(x):\n",
    "    if x == 1:\n",
    "        if rand() > 0.05:\n",
    "            return rand() / 2 + 0.5\n",
    "        else:\n",
    "            return rand() / 2\n",
    "    else:\n",
    "        if rand() > 0.3:\n",
    "            return rand() / 2\n",
    "        else:\n",
    "            return rand() / 2 + 0.5\n",
    "        \n",
    "y_pred = np.array([f(yi) for yi in y])"
   ]
  },
  {
   "cell_type": "markdown",
   "metadata": {},
   "source": [
    "计算出ROC曲线的数据点，并绘制ROC曲线。可以看出ROC曲线的形状是偏上的。"
   ]
  },
  {
   "cell_type": "code",
   "execution_count": 58,
   "metadata": {},
   "outputs": [
    {
     "name": "stdout",
     "output_type": "stream",
     "text": [
      "AUC is 0.826.\n"
     ]
    },
    {
     "data": {
      "text/plain": [
       "<matplotlib.axes._subplots.AxesSubplot at 0x9f34d30>"
      ]
     },
     "execution_count": 58,
     "metadata": {},
     "output_type": "execute_result"
    },
    {
     "data": {
      "image/png": "[encoded data removed]",
      "text/plain": [
       "<Figure size 432x288 with 1 Axes>"
      ]
     },
     "metadata": {
      "needs_background": "light"
     },
     "output_type": "display_data"
    }
   ],
   "source": [
    "points = get_roc(y, y_pred)\n",
    "df = pd.DataFrame(points, columns=[\"tpr\", \"fpr\"])\n",
    "print(\"AUC is %.3f.\" % get_auc(y, y_pred))\n",
    "df.plot(x=\"fpr\", y=\"tpr\", label=\"roc\")"
   ]
  },
  {
   "cell_type": "markdown",
   "metadata": {},
   "source": [
    "### 10.5 对于负例有着较强预测能力的ROC曲线"
   ]
  },
  {
   "cell_type": "markdown",
   "metadata": {},
   "source": [
    "阈值为0.5时，我们让正例的预测值有70%的可能性是正确预测，负例的预测值有95%的可能性是正确预测"
   ]
  },
  {
   "cell_type": "code",
   "execution_count": 59,
   "metadata": {},
   "outputs": [],
   "source": [
    "seed(120)\n",
    "\n",
    "def f(x):\n",
    "    if x == 1:\n",
    "        if rand() > 0.3:\n",
    "            return rand() / 2 + 0.5\n",
    "        else:\n",
    "            return rand() / 2\n",
    "    else:\n",
    "        if rand() > 0.05:\n",
    "            return rand() / 2\n",
    "        else:\n",
    "            return rand() / 2 + 0.5\n",
    "        \n",
    "y_pred = np.array([f(yi) for yi in y])"
   ]
  },
  {
   "cell_type": "markdown",
   "metadata": {},
   "source": [
    "计算出ROC曲线的数据点，并绘制ROC曲线。可以看出ROC曲线的形状是偏左的。"
   ]
  },
  {
   "cell_type": "code",
   "execution_count": 60,
   "metadata": {},
   "outputs": [
    {
     "name": "stdout",
     "output_type": "stream",
     "text": [
      "AUC is 0.830.\n"
     ]
    },
    {
     "data": {
      "text/plain": [
       "<matplotlib.axes._subplots.AxesSubplot at 0x9f04198>"
      ]
     },
     "execution_count": 60,
     "metadata": {},
     "output_type": "execute_result"
    },
    {
     "data": {
      "image/png": "[encoded data removed]",
      "text/plain": [
       "<Figure size 432x288 with 1 Axes>"
      ]
     },
     "metadata": {
      "needs_background": "light"
     },
     "output_type": "display_data"
    }
   ],
   "source": [
    "points = get_roc(y, y_pred)\n",
    "df = pd.DataFrame(points, columns=[\"tpr\", \"fpr\"])\n",
    "print(\"AUC is %.3f.\" % get_auc(y, y_pred))\n",
    "df.plot(x=\"fpr\", y=\"tpr\", label=\"roc\")"
   ]
  },
  {
   "cell_type": "markdown",
   "metadata": {},
   "source": [
    "### 10.6 预测值集中在0.5左右的ROC曲线\n",
    "阈值为0.5时，我们让预测值有80%的可能性是正确预测，但值集中在0.5左右"
   ]
  },
  {
   "cell_type": "code",
   "execution_count": 62,
   "metadata": {},
   "outputs": [],
   "source": [
    "seed(220)\n",
    "\n",
    "def f(x):\n",
    "    if x == 1:\n",
    "        if rand() > 0.2:\n",
    "            return rand() / 10 + 0.5\n",
    "        else:\n",
    "            return 0.5 - rand() / 10\n",
    "    else:\n",
    "        if rand() > 0.2:\n",
    "            return 0.5 - rand() / 10\n",
    "        else:\n",
    "            return rand() / 10 + 0.5\n",
    "        \n",
    "y_pred = np.array([f(yi) for yi in y])"
   ]
  },
  {
   "cell_type": "markdown",
   "metadata": {},
   "source": [
    "计算出ROC曲线的数据点，并绘制ROC曲线。"
   ]
  },
  {
   "cell_type": "code",
   "execution_count": 63,
   "metadata": {},
   "outputs": [
    {
     "name": "stdout",
     "output_type": "stream",
     "text": [
      "AUC is 0.804.\n"
     ]
    },
    {
     "data": {
      "text/plain": [
       "<matplotlib.axes._subplots.AxesSubplot at 0x8d264a8>"
      ]
     },
     "execution_count": 63,
     "metadata": {},
     "output_type": "execute_result"
    },
    {
     "data": {
      "image/png": "[encoded data removed]",
      "text/plain": [
       "<Figure size 432x288 with 1 Axes>"
      ]
     },
     "metadata": {
      "needs_background": "light"
     },
     "output_type": "display_data"
    }
   ],
   "source": [
    "points = get_roc(y, y_pred)\n",
    "df = pd.DataFrame(points, columns=[\"tpr\", \"fpr\"])\n",
    "print(\"AUC is %.3f.\" % get_auc(y, y_pred))\n",
    "df.plot(x=\"fpr\", y=\"tpr\", label=\"roc\")"
   ]
  },
  {
   "cell_type": "markdown",
   "metadata": {},
   "source": [
    "### 10.7 预测值靠近1或0的ROC曲线\n",
    "阈值为0.5时，我们让预测值有80%的可能性是正确预测，但值靠近1或0。"
   ]
  },
  {
   "cell_type": "code",
   "execution_count": 64,
   "metadata": {},
   "outputs": [],
   "source": [
    "seed(50)\n",
    "\n",
    "def f(x):\n",
    "    if x == 1:\n",
    "        if rand() > 0.2:\n",
    "            return 1 - rand() / 10\n",
    "        else:\n",
    "            return rand() / 10\n",
    "    else:\n",
    "        if rand() > 0.2:\n",
    "            return rand() / 10\n",
    "        else:\n",
    "            return 1 - rand() / 10\n",
    "        \n",
    "y_pred = np.array([f(yi) for yi in y])"
   ]
  },
  {
   "cell_type": "markdown",
   "metadata": {},
   "source": [
    "计算出ROC曲线的数据点，并绘制ROC曲线。可以看出曲线跟10.6几乎没有差异，根据ROC曲线的定义不难思考出原因。"
   ]
  },
  {
   "cell_type": "code",
   "execution_count": 65,
   "metadata": {},
   "outputs": [
    {
     "name": "stdout",
     "output_type": "stream",
     "text": [
      "AUC is 0.812.\n"
     ]
    },
    {
     "data": {
      "text/plain": [
       "<matplotlib.axes._subplots.AxesSubplot at 0xa09e4a8>"
      ]
     },
     "execution_count": 65,
     "metadata": {},
     "output_type": "execute_result"
    },
    {
     "data": {
      "image/png": "[encoded data removed]",
      "text/plain": [
       "<Figure size 432x288 with 1 Axes>"
      ]
     },
     "metadata": {
      "needs_background": "light"
     },
     "output_type": "display_data"
    }
   ],
   "source": [
    "points = get_roc(y, y_pred)\n",
    "df = pd.DataFrame(points, columns=[\"tpr\", \"fpr\"])\n",
    "print(\"AUC is %.3f.\" % get_auc(y, y_pred))\n",
    "df.plot(x=\"fpr\", y=\"tpr\", label=\"roc\")"
   ]
  },
  {
   "cell_type": "markdown",
   "metadata": {},
   "source": [
    "### 10.8 预测值恒等于0.9的ROC曲线"
   ]
  },
  {
   "cell_type": "code",
   "execution_count": 66,
   "metadata": {},
   "outputs": [],
   "source": [
    "y_pred = np.array([0.9] * len(y))"
   ]
  },
  {
   "cell_type": "markdown",
   "metadata": {},
   "source": [
    "计算出ROC曲线的数据点，并绘制ROC曲线。发现预测值为定值的模型，ROC曲线是一条直线，AUC恒等于0.5。"
   ]
  },
  {
   "cell_type": "code",
   "execution_count": 67,
   "metadata": {},
   "outputs": [
    {
     "name": "stdout",
     "output_type": "stream",
     "text": [
      "AUC is 0.500.\n"
     ]
    },
    {
     "data": {
      "text/plain": [
       "<matplotlib.axes._subplots.AxesSubplot at 0xa0ff0f0>"
      ]
     },
     "execution_count": 67,
     "metadata": {},
     "output_type": "execute_result"
    },
    {
     "data": {
      "image/png": "[encoded data removed]",
      "text/plain": [
       "<Figure size 432x288 with 1 Axes>"
      ]
     },
     "metadata": {
      "needs_background": "light"
     },
     "output_type": "display_data"
    }
   ],
   "source": [
    "points = get_roc(y, y_pred)\n",
    "df = pd.DataFrame(points, columns=[\"tpr\", \"fpr\"])\n",
    "print(\"AUC is %.3f.\" % get_auc(y, y_pred))\n",
    "df.plot(x=\"fpr\", y=\"tpr\", label=\"roc\")"
   ]
  },
  {
   "cell_type": "markdown",
   "metadata": {},
   "source": [
    "### 利用notedown包将ipython notebook文件转为markdown文件\n",
    "notedown classifier_evaluation.ipynb --to markdown --strip > classifier_evaluation.md"
   ]
  },
  {
   "cell_type": "code",
   "execution_count": null,
   "metadata": {},
   "outputs": [],
   "source": []
  }
 ],
 "metadata": {
  "kernelspec": {
   "display_name": "Python 3",
   "language": "python",
   "name": "python3"
  },
  "language_info": {
   "codemirror_mode": {
    "name": "ipython",
    "version": 3
   },
   "file_extension": ".py",
   "mimetype": "text/x-python",
   "name": "python",
   "nbconvert_exporter": "python",
   "pygments_lexer": "ipython3",
   "version": "3.6.5"
  }
 },
 "nbformat": 4,
 "nbformat_minor": 2
}
